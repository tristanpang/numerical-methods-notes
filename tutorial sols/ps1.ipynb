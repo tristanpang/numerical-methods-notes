{
 "cells": [
  {
   "cell_type": "markdown",
   "metadata": {},
   "source": [
    "# Problem set 1 (2024 version)\n",
    "## Problem 1\n",
    "Part a"
   ]
  },
  {
   "cell_type": "markdown",
   "metadata": {},
   "source": [
    "Pseudocode:\n",
    "\n",
    "Input: \n",
    " - function: fn\n",
    " - min guess: xmin\n",
    " - max guess: xmax\n",
    "\n",
    "Code:\n",
    " - Loop:\n",
    "    - midpoint <- (xmin + xmax) / 2\n",
    "    - if fn(midpoint) = 0:\n",
    "        - return **midpoint**\n",
    "    - elif fn(midpoint) > 0:\n",
    "        - xmax <- midpoint\n",
    "    - else:\n",
    "        - xmin <- midpoint"
   ]
  },
  {
   "cell_type": "code",
   "execution_count": 49,
   "metadata": {},
   "outputs": [],
   "source": [
    "import numpy as np\n",
    "def root_bisection(fn, xmin, xmax, tol=1e-14, nits=500):\n",
    "    '''I don't feel like writing docstrings'''\n",
    "    # sanitise\n",
    "    if not callable(fn):\n",
    "        raise ValueError('fn must be a callable function')\n",
    "    if fn(xmin) * fn(xmax) >= 0:\n",
    "        raise ValueError('fn(xmin) and fn(xmax) must have opposite signs')\n",
    "    if fn(xmin) >= fn(xmax):\n",
    "        xmin, xmax = xmax, xmin  # swap\n",
    "\n",
    "    # main loop\n",
    "    n = 0\n",
    "    while n < nits:\n",
    "        midpoint = (xmin + xmax) / 2\n",
    "        f_mid = fn(midpoint)\n",
    "        if np.abs(f_mid) < tol:\n",
    "            break\n",
    "        elif f_mid > 0:\n",
    "            xmax = midpoint\n",
    "        else:\n",
    "            xmin = midpoint\n",
    "        n += 1\n",
    "    else:\n",
    "        raise ValueError(f'Root not found in {nits} iterations. Current midpoint: {midpoint}.')\n",
    "    print(f'Root found at {midpoint} in {n} iterations, with residual {f_mid:.3e}.')\n",
    "    \n",
    "    "
   ]
  },
  {
   "cell_type": "code",
   "execution_count": 54,
   "metadata": {},
   "outputs": [
    {
     "name": "stdout",
     "output_type": "stream",
     "text": [
      "Root found at 1.000000000000001 in 50 iterations, with residual 7.105e-15.\n"
     ]
    }
   ],
   "source": [
    "fn = lambda x: x**2 + 5*x - 6\n",
    "root_bisection(fn, -1.5, 6, 1e-14, 100)"
   ]
  },
  {
   "cell_type": "code",
   "execution_count": null,
   "metadata": {},
   "outputs": [
    {
     "name": "stdout",
     "output_type": "stream",
     "text": [
      "Root found at -1.2784645427610712 in 45 iterations, with residual 2.554e-15.\n"
     ]
    }
   ],
   "source": [
    "fn = lambda x: x/(1+np.exp(x)) + 1\n",
    "root_bisection(fn, -2, 6, 1e-14, 100)"
   ]
  },
  {
   "cell_type": "markdown",
   "metadata": {},
   "source": [
    "Part b"
   ]
  },
  {
   "cell_type": "code",
   "execution_count": 60,
   "metadata": {},
   "outputs": [],
   "source": [
    "def root_newton(fn, fnderiv, x0, tolx, tolf=1e-13, nits=100):\n",
    "    # main loop\n",
    "    n = 0\n",
    "    while n < nits:\n",
    "        f = fn(x0)\n",
    "        if np.abs(f) < tolf:\n",
    "            break\n",
    "        df = fnderiv(x0)\n",
    "        if np.abs(df) < tolx:\n",
    "            raise ValueError('Derivative too small')\n",
    "        x0 -= f / df\n",
    "        n += 1\n",
    "    else:\n",
    "        raise ValueError(f'Root not found in {nits} iterations. Current x0: {x0}.')\n",
    "    print(f'Root found at {x0} in {n} iterations, with residual {f:.3e}.')"
   ]
  },
  {
   "cell_type": "code",
   "execution_count": 67,
   "metadata": {},
   "outputs": [
    {
     "name": "stdout",
     "output_type": "stream",
     "text": [
      "Root found at 1.0 in 53 iterations, with residual 0.000e+00.\n"
     ]
    }
   ],
   "source": [
    "fn = lambda x: x**2 + 5*x - 6\n",
    "fnderiv = lambda x: 2*x + 5\n",
    "root_newton(fn, fnderiv, 1e15, 1e-14, 1e-14, 100)"
   ]
  },
  {
   "cell_type": "code",
   "execution_count": null,
   "metadata": {},
   "outputs": [],
   "source": []
  },
  {
   "cell_type": "code",
   "execution_count": null,
   "metadata": {},
   "outputs": [],
   "source": []
  },
  {
   "cell_type": "code",
   "execution_count": null,
   "metadata": {},
   "outputs": [],
   "source": []
  }
 ],
 "metadata": {
  "kernelspec": {
   "display_name": "Python 3",
   "language": "python",
   "name": "python3"
  },
  "language_info": {
   "codemirror_mode": {
    "name": "ipython",
    "version": 3
   },
   "file_extension": ".py",
   "mimetype": "text/x-python",
   "name": "python",
   "nbconvert_exporter": "python",
   "pygments_lexer": "ipython3",
   "version": "3.10.6"
  }
 },
 "nbformat": 4,
 "nbformat_minor": 2
}
